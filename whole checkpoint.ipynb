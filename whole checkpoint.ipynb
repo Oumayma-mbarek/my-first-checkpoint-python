{
 "cells": [
  {
   "cell_type": "code",
   "execution_count": 3,
   "metadata": {},
   "outputs": [
    {
     "name": "stdout",
     "output_type": "stream",
     "text": [
      "2002,2009,2016,2023,2037,2044,2051,2058,2072,2079,2086,2093,2107,2114,2121,2128,2142,2149,2156,2163,2177,2184,2191,2198,2212,2219,2226,2233,2247,2254,2261,2268,2282,2289,2296,2303,2317,2324,2331,2338,2352,2359,2366,2373,2387,2394,2401,2408,2422,2429,2436,2443,2457,2464,2471,2478,2492,2499,2506,2513,2527,2534,2541,2548,2562,2569,2576,2583,2597,2604,2611,2618,2632,2639,2646,2653,2667,2674,2681,2688,2702,2709,2716,2723,2737,2744,2751,2758,2772,2779,2786,2793,2807,2814,2821,2828,2842,2849,2856,2863,2877,2884,2891,2898,2912,2919,2926,2933,2947,2954,2961,2968,2982,2989,2996,3003,3017,3024,3031,3038,3052,3059,3066,3073,3087,3094,3101,3108,3122,3129,3136,3143,3157,3164,3171,3178,3192,3199\n"
     ]
    }
   ],
   "source": [
    "#question1\n",
    "liste=[]\n",
    "for i in range (2000,3200):\n",
    "    if i%7==0 and i%5!=0:\n",
    "\n",
    "        liste.append(str(i))\n",
    "print (\",\".join(liste))\n",
    "\n"
   ]
  },
  {
   "cell_type": "code",
   "execution_count": null,
   "metadata": {},
   "outputs": [],
   "source": [
    "#question2\n",
    "nums = input(\"Enter number(s): \").split(',')\n",
    "liste = []\n",
    "\n",
    "for num in nums:\n",
    "    factorial = 1\n",
    "    for i in range(1, int(num) + 1):\n",
    "        factorial = factorial * i\n",
    "\n",
    "    liste.append(str(factorial))\n",
    "\n",
    "print (','.join(liste))"
   ]
  },
  {
   "cell_type": "code",
   "execution_count": 4,
   "metadata": {},
   "outputs": [
    {
     "name": "stdout",
     "output_type": "stream",
     "text": [
      "donner un nombre8\n",
      "{1: 1, 2: 4, 3: 9, 4: 16, 5: 25, 6: 36, 7: 49, 8: 64}\n"
     ]
    }
   ],
   "source": [
    "#question3\n",
    "n=int(input(\"donner un nombre\"))\n",
    "dict={i:i*i for i in range (1,n+1)}\n",
    "print (dict)\n"
   ]
  },
  {
   "cell_type": "code",
   "execution_count": null,
   "metadata": {},
   "outputs": [],
   "source": [
    "\n"
   ]
  },
  {
   "cell_type": "code",
   "execution_count": 6,
   "metadata": {},
   "outputs": [
    {
     "name": "stdout",
     "output_type": "stream",
     "text": [
      "enter the values of D5,6,7\n",
      "['5', '6', '7']\n",
      "4,4,5\n"
     ]
    }
   ],
   "source": [
    "#question4\n",
    "from math import *\n",
    "C=50\n",
    "H=30\n",
    "values=[]\n",
    "D= input(\"enter the values of D\")\n",
    "d=D.split(\",\")\n",
    "print(d)\n",
    "for i in d:\n",
    "    Q=sqrt((2*C*float(i))/H)\n",
    "    values.append(str(int(round(Q))))\n",
    "print(\",\".join(values))  "
   ]
  },
  {
   "cell_type": "code",
   "execution_count": null,
   "metadata": {},
   "outputs": [],
   "source": [
    "#question5\n",
    "s=input(\"donner une chaine:\")\n",
    "n=3\n",
    "if len(s)>=n:\n",
    "    new_s=s[0:n]+s[n+1:]\n",
    "print(new_s)"
   ]
  },
  {
   "cell_type": "code",
   "execution_count": null,
   "metadata": {},
   "outputs": [],
   "source": [
    "from string import *"
   ]
  },
  {
   "cell_type": "code",
   "execution_count": 7,
   "metadata": {},
   "outputs": [
    {
     "name": "stdout",
     "output_type": "stream",
     "text": [
      "i hope you didnt translate it by hand. thats what computers are for. doing it in by hand is inefficient and that's why this text is so long. using string.maketrans() is recommended. now apply on the url. \n"
     ]
    }
   ],
   "source": [
    "#question6\n",
    "Text = \"g fmnc wms bgblr rpylqjyrc gr zw fylb. rfyrq ufyr amknsrcpq ypc dmp. bmgle gr gl zw fylb gq glcddgagclr ylb rfyr'q ufw rfgq rcvr gq qm jmle. sqgle qrpgle.kyicrpylq() gq pcamkkclbcb. lmu ynnjw ml rfc spj. \"\n",
    "table = str.maketrans(\n",
    "    \"abcdefghijklmnopqrstuvwxyz\", \"cdefghijklmnopqrstuvwxyzab\")\n",
    "result =Text.translate(table)\n",
    "print(result)"
   ]
  },
  {
   "cell_type": "code",
   "execution_count": null,
   "metadata": {},
   "outputs": [],
   "source": []
  },
  {
   "cell_type": "code",
   "execution_count": 9,
   "metadata": {},
   "outputs": [
    {
     "name": "stdout",
     "output_type": "stream",
     "text": [
      "donner un min2\n",
      "donner un max10\n",
      "donner le nombre des listes2\n",
      "donner le nombre des elements4\n",
      "[[6, 6, 3, 4], [4, 2, 8, 6]]\n"
     ]
    }
   ],
   "source": [
    "#question7\n",
    "import numpy as np\n",
    "x=int(input(\"donner un min\"))\n",
    "y=int(input(\"donner un max\"))\n",
    "w=int(input(\"donner le nombre des listes\"))\n",
    "z=int(input(\"donner le nombre des elements\"))\n",
    "array=np.random.randint(x,y,size=(w,z))\n",
    "array=array.tolist()\n",
    "print(array)"
   ]
  },
  {
   "cell_type": "code",
   "execution_count": 11,
   "metadata": {},
   "outputs": [
    {
     "name": "stdout",
     "output_type": "stream",
     "text": [
      "2\n",
      "1\n",
      "0\n",
      "0\n",
      "1\n",
      "2\n",
      "[[ 1. -1.]\n",
      " [-1.  1.]]\n"
     ]
    }
   ],
   "source": [
    "#question8\n",
    "import numpy as np\n",
    "a= np.array([int(input()),int(input()),int(input())])\n",
    "b=np.array([int(input()),int(input()),int(input())] )\n",
    "print(np.cov(a,b))"
   ]
  },
  {
   "cell_type": "code",
   "execution_count": null,
   "metadata": {},
   "outputs": [],
   "source": []
  },
  {
   "cell_type": "markdown",
   "metadata": {},
   "source": []
  }
 ],
 "metadata": {
  "kernelspec": {
   "display_name": "Python 3",
   "language": "python",
   "name": "python3"
  },
  "language_info": {
   "codemirror_mode": {
    "name": "ipython",
    "version": 3
   },
   "file_extension": ".py",
   "mimetype": "text/x-python",
   "name": "python",
   "nbconvert_exporter": "python",
   "pygments_lexer": "ipython3",
   "version": "3.7.6"
  }
 },
 "nbformat": 4,
 "nbformat_minor": 4
}
